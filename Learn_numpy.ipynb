{
 "cells": [
  {
   "cell_type": "code",
   "execution_count": 2,
   "id": "aa2d332b",
   "metadata": {},
   "outputs": [],
   "source": [
    "import numpy as np\n"
   ]
  },
  {
   "cell_type": "code",
   "execution_count": 4,
   "id": "5e22b88a",
   "metadata": {},
   "outputs": [],
   "source": [
    "My_Arr = np.array([[1,2],[8,9]])"
   ]
  },
  {
   "cell_type": "code",
   "execution_count": 5,
   "id": "dbed7343",
   "metadata": {},
   "outputs": [
    {
     "data": {
      "text/plain": [
       "array([[1, 2],\n",
       "       [8, 9]])"
      ]
     },
     "execution_count": 5,
     "metadata": {},
     "output_type": "execute_result"
    }
   ],
   "source": [
    "My_Arr\n"
   ]
  },
  {
   "cell_type": "code",
   "execution_count": 6,
   "id": "56f7a762",
   "metadata": {},
   "outputs": [],
   "source": [
    "My_Matrix = np.matrix([[1,2],[8,9]])"
   ]
  },
  {
   "cell_type": "code",
   "execution_count": 7,
   "id": "37d0450d",
   "metadata": {},
   "outputs": [
    {
     "data": {
      "text/plain": [
       "matrix([[1, 2],\n",
       "        [8, 9]])"
      ]
     },
     "execution_count": 7,
     "metadata": {},
     "output_type": "execute_result"
    }
   ],
   "source": [
    "My_Matrix\n"
   ]
  },
  {
   "cell_type": "code",
   "execution_count": 10,
   "id": "641ed921",
   "metadata": {},
   "outputs": [],
   "source": [
    "My_3D_Arr = np.array([[1,2,10],[3,4,11],[7,8,12]])"
   ]
  },
  {
   "cell_type": "code",
   "execution_count": 15,
   "id": "71ad9b33",
   "metadata": {},
   "outputs": [
    {
     "data": {
      "text/plain": [
       "array([[ 77,  90, 152],\n",
       "       [ 92, 110, 206],\n",
       "       [115, 142, 302]])"
      ]
     },
     "execution_count": 15,
     "metadata": {},
     "output_type": "execute_result"
    }
   ],
   "source": [
    "Result = My_3D_Arr @ My_3D_Arr\n",
    "Result\n"
   ]
  },
  {
   "cell_type": "markdown",
   "id": "11521996",
   "metadata": {},
   "source": [
    "Multiply arrays "
   ]
  },
  {
   "cell_type": "code",
   "execution_count": 16,
   "id": "cb27f90a",
   "metadata": {},
   "outputs": [
    {
     "data": {
      "text/plain": [
       "array([[ 77,  90, 152],\n",
       "       [ 92, 110, 206],\n",
       "       [115, 142, 302]])"
      ]
     },
     "execution_count": 16,
     "metadata": {},
     "output_type": "execute_result"
    }
   ],
   "source": [
    "Result2 = np.dot(My_3D_Arr , My_3D_Arr)\n",
    "Result2"
   ]
  },
  {
   "cell_type": "markdown",
   "id": "08b17fd4",
   "metadata": {},
   "source": [
    "Multiply arrays "
   ]
  },
  {
   "cell_type": "code",
   "execution_count": 21,
   "id": "b5f7588b",
   "metadata": {},
   "outputs": [
    {
     "data": {
      "text/plain": [
       "array([[  1,   4, 100],\n",
       "       [  9,  16, 121],\n",
       "       [ 49,  64, 144]])"
      ]
     },
     "execution_count": 21,
     "metadata": {},
     "output_type": "execute_result"
    }
   ],
   "source": [
    "np.multiply(My_3D_Arr , My_3D_Arr)"
   ]
  },
  {
   "cell_type": "markdown",
   "id": "ff1f3b1c",
   "metadata": {},
   "source": [
    "Multiply each value by its corresponding value "
   ]
  },
  {
   "cell_type": "code",
   "execution_count": 19,
   "id": "e8db5002",
   "metadata": {},
   "outputs": [
    {
     "data": {
      "text/plain": [
       "1774080"
      ]
     },
     "execution_count": 19,
     "metadata": {},
     "output_type": "execute_result"
    }
   ],
   "source": [
    "np.prod(My_3D_Arr) "
   ]
  },
  {
   "cell_type": "markdown",
   "id": "db61cba9",
   "metadata": {},
   "source": [
    "* multiply of all members "
   ]
  },
  {
   "cell_type": "code",
   "execution_count": 30,
   "id": "987b49a3",
   "metadata": {},
   "outputs": [
    {
     "data": {
      "text/plain": [
       "array([6, 7, 8])"
      ]
     },
     "execution_count": 30,
     "metadata": {},
     "output_type": "execute_result"
    }
   ],
   "source": [
    "My_Result3 = np.array([1,2,3])\n",
    "My_Result3 = My_Result3 + 5\n",
    "My_Result3 \n"
   ]
  },
  {
   "cell_type": "markdown",
   "id": "2a500aa0",
   "metadata": {},
   "source": [
    "* Broadcasting"
   ]
  },
  {
   "cell_type": "code",
   "execution_count": 27,
   "id": "7e244820",
   "metadata": {},
   "outputs": [],
   "source": [
    "c = np.ones((3,3))"
   ]
  },
  {
   "cell_type": "code",
   "execution_count": 28,
   "id": "9d8ca03b",
   "metadata": {},
   "outputs": [
    {
     "data": {
      "text/plain": [
       "array([[1., 1., 1.],\n",
       "       [1., 1., 1.],\n",
       "       [1., 1., 1.]])"
      ]
     },
     "execution_count": 28,
     "metadata": {},
     "output_type": "execute_result"
    }
   ],
   "source": [
    "c\n"
   ]
  },
  {
   "cell_type": "code",
   "execution_count": 29,
   "id": "5d559fa7",
   "metadata": {},
   "outputs": [
    {
     "data": {
      "text/plain": [
       "array([[2., 3., 4.],\n",
       "       [2., 3., 4.],\n",
       "       [2., 3., 4.]])"
      ]
     },
     "execution_count": 29,
     "metadata": {},
     "output_type": "execute_result"
    }
   ],
   "source": [
    "c + My_Result3"
   ]
  },
  {
   "cell_type": "markdown",
   "id": "384ecd79",
   "metadata": {},
   "source": [
    "* Broadcasting"
   ]
  },
  {
   "cell_type": "code",
   "execution_count": 31,
   "id": "20bef7ff",
   "metadata": {},
   "outputs": [
    {
     "data": {
      "text/plain": [
       "array([[1.],\n",
       "       [1.],\n",
       "       [1.]])"
      ]
     },
     "execution_count": 31,
     "metadata": {},
     "output_type": "execute_result"
    }
   ],
   "source": [
    "c = np.ones((3,1))\n",
    "c"
   ]
  },
  {
   "cell_type": "code",
   "execution_count": 3,
   "id": "22b7a358",
   "metadata": {},
   "outputs": [
    {
     "data": {
      "text/plain": [
       "array([[0., 0., 0.],\n",
       "       [0., 0., 0.]])"
      ]
     },
     "execution_count": 3,
     "metadata": {},
     "output_type": "execute_result"
    }
   ],
   "source": [
    "np.zeros((2,3))"
   ]
  },
  {
   "cell_type": "code",
   "execution_count": 35,
   "id": "57a97a07",
   "metadata": {},
   "outputs": [
    {
     "data": {
      "text/plain": [
       "array([3, 4, 5])"
      ]
     },
     "execution_count": 35,
     "metadata": {},
     "output_type": "execute_result"
    }
   ],
   "source": [
    "b = np.array([3,4,5])\n",
    "b\n"
   ]
  },
  {
   "cell_type": "code",
   "execution_count": 36,
   "id": "8ddb6896",
   "metadata": {},
   "outputs": [
    {
     "data": {
      "text/plain": [
       "array([[4., 5., 6.],\n",
       "       [4., 5., 6.],\n",
       "       [4., 5., 6.]])"
      ]
     },
     "execution_count": 36,
     "metadata": {},
     "output_type": "execute_result"
    }
   ],
   "source": [
    "c + b"
   ]
  },
  {
   "cell_type": "markdown",
   "id": "198cdb8f",
   "metadata": {},
   "source": [
    "* Broadcasting"
   ]
  },
  {
   "cell_type": "code",
   "execution_count": 40,
   "id": "118b2f1c",
   "metadata": {},
   "outputs": [
    {
     "data": {
      "text/plain": [
       "21"
      ]
     },
     "execution_count": 40,
     "metadata": {},
     "output_type": "execute_result"
    }
   ],
   "source": [
    "np.sum(My_Result3)\n"
   ]
  },
  {
   "cell_type": "markdown",
   "id": "7cb84eff",
   "metadata": {},
   "source": [
    "Sum of all members"
   ]
  },
  {
   "cell_type": "code",
   "execution_count": 43,
   "id": "8def68bb",
   "metadata": {},
   "outputs": [
    {
     "data": {
      "text/plain": [
       "array([[4., 5., 6.],\n",
       "       [4., 5., 6.],\n",
       "       [4., 5., 6.]])"
      ]
     },
     "execution_count": 43,
     "metadata": {},
     "output_type": "execute_result"
    }
   ],
   "source": [
    "c + b"
   ]
  },
  {
   "cell_type": "code",
   "execution_count": 41,
   "id": "4d8d53ed",
   "metadata": {},
   "outputs": [
    {
     "data": {
      "text/plain": [
       "45.0"
      ]
     },
     "execution_count": 41,
     "metadata": {},
     "output_type": "execute_result"
    }
   ],
   "source": [
    "np.sum(c + b)"
   ]
  },
  {
   "cell_type": "code",
   "execution_count": 42,
   "id": "9b5a70a0",
   "metadata": {},
   "outputs": [
    {
     "data": {
      "text/plain": [
       "array([ 4.,  9., 15., 19., 24., 30., 34., 39., 45.])"
      ]
     },
     "execution_count": 42,
     "metadata": {},
     "output_type": "execute_result"
    }
   ],
   "source": [
    "np.cumsum(c + b)"
   ]
  },
  {
   "cell_type": "markdown",
   "id": "6f63a3a3",
   "metadata": {},
   "source": [
    " Sum of each element with the sum of the elements before it "
   ]
  },
  {
   "cell_type": "code",
   "execution_count": 44,
   "id": "d5b1aa48",
   "metadata": {},
   "outputs": [
    {
     "data": {
      "text/plain": [
       "array([[ 4.,  5.,  6.],\n",
       "       [ 8., 10., 12.],\n",
       "       [12., 15., 18.]])"
      ]
     },
     "execution_count": 44,
     "metadata": {},
     "output_type": "execute_result"
    }
   ],
   "source": [
    "np.cumsum((c + b) , axis = 0)"
   ]
  },
  {
   "cell_type": "code",
   "execution_count": 45,
   "id": "e6705c84",
   "metadata": {},
   "outputs": [
    {
     "data": {
      "text/plain": [
       "array([[ 4.,  9., 15.],\n",
       "       [ 4.,  9., 15.],\n",
       "       [ 4.,  9., 15.]])"
      ]
     },
     "execution_count": 45,
     "metadata": {},
     "output_type": "execute_result"
    }
   ],
   "source": [
    "np.cumsum((c + b) , axis = 1)"
   ]
  },
  {
   "cell_type": "code",
   "execution_count": 46,
   "id": "9e1845bf",
   "metadata": {},
   "outputs": [
    {
     "data": {
      "text/plain": [
       "array([[1., 1., 1.],\n",
       "       [1., 1., 1.],\n",
       "       [1., 1., 1.]])"
      ]
     },
     "execution_count": 46,
     "metadata": {},
     "output_type": "execute_result"
    }
   ],
   "source": [
    "np.subtract((c + b) , b)"
   ]
  },
  {
   "cell_type": "code",
   "execution_count": 48,
   "id": "bbb3fec6",
   "metadata": {},
   "outputs": [
    {
     "data": {
      "text/plain": [
       "array([4.  , 2.  , 1.62])"
      ]
     },
     "execution_count": 48,
     "metadata": {},
     "output_type": "execute_result"
    }
   ],
   "source": [
    "np.divide([8 , 4 , 3.24] , 2)"
   ]
  },
  {
   "cell_type": "code",
   "execution_count": 49,
   "id": "80b03679",
   "metadata": {},
   "outputs": [
    {
     "data": {
      "text/plain": [
       "array([4., 2., 1.])"
      ]
     },
     "execution_count": 49,
     "metadata": {},
     "output_type": "execute_result"
    }
   ],
   "source": [
    "np.floor_divide([8 , 4 , 3.24] , 2)"
   ]
  },
  {
   "cell_type": "code",
   "execution_count": 50,
   "id": "4ffb0b12",
   "metadata": {},
   "outputs": [
    {
     "data": {
      "text/plain": [
       "4.0"
      ]
     },
     "execution_count": 50,
     "metadata": {},
     "output_type": "execute_result"
    }
   ],
   "source": [
    "np.math.sqrt(16)"
   ]
  },
  {
   "cell_type": "code",
   "execution_count": 52,
   "id": "aa990238",
   "metadata": {},
   "outputs": [
    {
     "data": {
      "text/plain": [
       "nan"
      ]
     },
     "execution_count": 52,
     "metadata": {},
     "output_type": "execute_result"
    }
   ],
   "source": [
    "np.math.nan"
   ]
  },
  {
   "cell_type": "markdown",
   "id": "2e3c015d",
   "metadata": {},
   "source": [
    "nan = not a number"
   ]
  },
  {
   "cell_type": "code",
   "execution_count": 53,
   "id": "6bedd331",
   "metadata": {},
   "outputs": [
    {
     "data": {
      "text/plain": [
       "inf"
      ]
     },
     "execution_count": 53,
     "metadata": {},
     "output_type": "execute_result"
    }
   ],
   "source": [
    "np.math.inf"
   ]
  },
  {
   "cell_type": "markdown",
   "id": "12f19d26",
   "metadata": {},
   "source": [
    "inf = infinity"
   ]
  },
  {
   "cell_type": "code",
   "execution_count": 54,
   "id": "6e2ac288",
   "metadata": {},
   "outputs": [
    {
     "data": {
      "text/plain": [
       "array([[4.3488942 , 3.1839082 , 2.86050305],\n",
       "       [2.64080356, 1.58267021, 3.89996212]])"
      ]
     },
     "execution_count": 54,
     "metadata": {},
     "output_type": "execute_result"
    }
   ],
   "source": [
    "np.random.uniform(1 , 5 , (2,3))"
   ]
  },
  {
   "cell_type": "markdown",
   "id": "fabc1d5b",
   "metadata": {},
   "source": [
    "Random Numbers Between 1 and 5"
   ]
  },
  {
   "cell_type": "code",
   "execution_count": 57,
   "id": "adff1485",
   "metadata": {},
   "outputs": [
    {
     "data": {
      "text/plain": [
       "array([[-0.36142707],\n",
       "       [-2.50620361],\n",
       "       [-0.26304175]])"
      ]
     },
     "execution_count": 57,
     "metadata": {},
     "output_type": "execute_result"
    }
   ],
   "source": [
    "np.random.standard_normal((3,1))"
   ]
  },
  {
   "cell_type": "code",
   "execution_count": 58,
   "id": "643a41f8",
   "metadata": {},
   "outputs": [
    {
     "data": {
      "text/plain": [
       "array([1, 4, 7])"
      ]
     },
     "execution_count": 58,
     "metadata": {},
     "output_type": "execute_result"
    }
   ],
   "source": [
    "np.arange(1, 10, 3)"
   ]
  },
  {
   "cell_type": "markdown",
   "id": "bda93172",
   "metadata": {},
   "source": [
    "Creat a sequence of numbers from 1 to 10 with step size = 3"
   ]
  },
  {
   "cell_type": "code",
   "execution_count": 59,
   "id": "da748d73",
   "metadata": {},
   "outputs": [
    {
     "data": {
      "text/plain": [
       "array([ 1. ,  5.5, 10. ])"
      ]
     },
     "execution_count": 59,
     "metadata": {},
     "output_type": "execute_result"
    }
   ],
   "source": [
    "np.linspace(1, 10, 3)"
   ]
  },
  {
   "cell_type": "code",
   "execution_count": 60,
   "id": "fa196cf2",
   "metadata": {},
   "outputs": [
    {
     "data": {
      "text/plain": [
       "array([ 1. ,  5.5, 10. ])"
      ]
     },
     "execution_count": 60,
     "metadata": {},
     "output_type": "execute_result"
    }
   ],
   "source": [
    "np.linspace(1, 10, 3)"
   ]
  },
  {
   "cell_type": "markdown",
   "id": "b862c738",
   "metadata": {},
   "source": [
    "Take 3 numbers from 1 to 10 "
   ]
  },
  {
   "cell_type": "code",
   "execution_count": 6,
   "id": "4ebead88",
   "metadata": {},
   "outputs": [
    {
     "data": {
      "text/plain": [
       "array([[1, 2],\n",
       "       [3, 4]])"
      ]
     },
     "execution_count": 6,
     "metadata": {},
     "output_type": "execute_result"
    }
   ],
   "source": [
    "a = np.array([[1,2],[3,4]])\n",
    "a"
   ]
  },
  {
   "cell_type": "code",
   "execution_count": 7,
   "id": "db13d9a6",
   "metadata": {},
   "outputs": [
    {
     "data": {
      "text/plain": [
       "4"
      ]
     },
     "execution_count": 7,
     "metadata": {},
     "output_type": "execute_result"
    }
   ],
   "source": [
    "np.size(a)"
   ]
  },
  {
   "cell_type": "code",
   "execution_count": 8,
   "id": "8cb46b8d",
   "metadata": {},
   "outputs": [
    {
     "data": {
      "text/plain": [
       "(2, 2)"
      ]
     },
     "execution_count": 8,
     "metadata": {},
     "output_type": "execute_result"
    }
   ],
   "source": [
    "np.shape(a)"
   ]
  },
  {
   "cell_type": "code",
   "execution_count": 9,
   "id": "fc1c1be1",
   "metadata": {},
   "outputs": [],
   "source": [
    "First_Arr = ([1,2,5,6,1,8,7,4,3,3,2])\n",
    "Second_Arr = ([9,2,2,2,7,5,3,11,1])\n"
   ]
  },
  {
   "cell_type": "code",
   "execution_count": 10,
   "id": "c73d69cd",
   "metadata": {},
   "outputs": [
    {
     "data": {
      "text/plain": [
       "array([1, 2, 3, 4, 5, 6, 7, 8])"
      ]
     },
     "execution_count": 10,
     "metadata": {},
     "output_type": "execute_result"
    }
   ],
   "source": [
    "np.unique(First_Arr)"
   ]
  },
  {
   "cell_type": "code",
   "execution_count": 11,
   "id": "9409dabd",
   "metadata": {},
   "outputs": [
    {
     "data": {
      "text/plain": [
       "array([ 1,  2,  3,  4,  5,  6,  7,  8,  9, 11])"
      ]
     },
     "execution_count": 11,
     "metadata": {},
     "output_type": "execute_result"
    }
   ],
   "source": [
    "np.union1d(First_Arr , Second_Arr)"
   ]
  },
  {
   "cell_type": "code",
   "execution_count": 12,
   "id": "d826ee81",
   "metadata": {},
   "outputs": [
    {
     "data": {
      "text/plain": [
       "array([1, 2, 3, 5, 7])"
      ]
     },
     "execution_count": 12,
     "metadata": {},
     "output_type": "execute_result"
    }
   ],
   "source": [
    "np.intersect1d(First_Arr , Second_Arr)"
   ]
  },
  {
   "cell_type": "code",
   "execution_count": 13,
   "id": "020b22d9",
   "metadata": {},
   "outputs": [
    {
     "data": {
      "text/plain": [
       "3.8181818181818183"
      ]
     },
     "execution_count": 13,
     "metadata": {},
     "output_type": "execute_result"
    }
   ],
   "source": [
    "np.mean(First_Arr )"
   ]
  },
  {
   "cell_type": "code",
   "execution_count": 14,
   "id": "2c431ce2",
   "metadata": {},
   "outputs": [
    {
     "data": {
      "text/plain": [
       "4.666666666666667"
      ]
     },
     "execution_count": 14,
     "metadata": {},
     "output_type": "execute_result"
    }
   ],
   "source": [
    "np.mean(Second_Arr)"
   ]
  },
  {
   "cell_type": "code",
   "execution_count": 15,
   "id": "f309cec0",
   "metadata": {},
   "outputs": [
    {
     "data": {
      "text/plain": [
       "3.0"
      ]
     },
     "execution_count": 15,
     "metadata": {},
     "output_type": "execute_result"
    }
   ],
   "source": [
    "np.median(First_Arr)"
   ]
  },
  {
   "cell_type": "code",
   "execution_count": 16,
   "id": "04911ca6",
   "metadata": {},
   "outputs": [
    {
     "data": {
      "text/plain": [
       "2.289032420366213"
      ]
     },
     "execution_count": 16,
     "metadata": {},
     "output_type": "execute_result"
    }
   ],
   "source": [
    "np.std(First_Arr)"
   ]
  },
  {
   "cell_type": "markdown",
   "id": "f1ba7e92",
   "metadata": {},
   "source": [
    "std = standard deviation"
   ]
  },
  {
   "cell_type": "code",
   "execution_count": 17,
   "id": "766b1b1b",
   "metadata": {},
   "outputs": [
    {
     "data": {
      "text/plain": [
       "5.239669421487604"
      ]
     },
     "execution_count": 17,
     "metadata": {},
     "output_type": "execute_result"
    }
   ],
   "source": [
    "np.var(First_Arr)"
   ]
  },
  {
   "cell_type": "markdown",
   "id": "a6f29261",
   "metadata": {},
   "source": [
    "var = variance"
   ]
  },
  {
   "cell_type": "code",
   "execution_count": 18,
   "id": "645c938b",
   "metadata": {},
   "outputs": [
    {
     "data": {
      "text/plain": [
       "31"
      ]
     },
     "execution_count": 18,
     "metadata": {},
     "output_type": "execute_result"
    }
   ],
   "source": [
    "Polynomials = np.array([1,3,3])\n",
    "np.polyval(Polynomials , 4)"
   ]
  },
  {
   "cell_type": "markdown",
   "id": "bef57c94",
   "metadata": {},
   "source": [
    "x^2 + 3x + 3 with x=4"
   ]
  },
  {
   "cell_type": "code",
   "execution_count": 19,
   "id": "883851c2",
   "metadata": {},
   "outputs": [
    {
     "data": {
      "text/plain": [
       "array([2, 3])"
      ]
     },
     "execution_count": 19,
     "metadata": {},
     "output_type": "execute_result"
    }
   ],
   "source": [
    "np.polyder(Polynomials)"
   ]
  },
  {
   "cell_type": "markdown",
   "id": "182de0e8",
   "metadata": {},
   "source": [
    "Derivative "
   ]
  },
  {
   "cell_type": "code",
   "execution_count": 20,
   "id": "d83cf50f",
   "metadata": {},
   "outputs": [
    {
     "data": {
      "text/plain": [
       "array([0.33333333, 1.5       , 3.        , 0.        ])"
      ]
     },
     "execution_count": 20,
     "metadata": {},
     "output_type": "execute_result"
    }
   ],
   "source": [
    "np.polyint(Polynomials)"
   ]
  },
  {
   "cell_type": "markdown",
   "id": "cb1375c8",
   "metadata": {},
   "source": [
    " Integral = x^3/3 + 1.5x^2 + 3x "
   ]
  },
  {
   "cell_type": "code",
   "execution_count": null,
   "id": "d1889e04",
   "metadata": {},
   "outputs": [],
   "source": []
  }
 ],
 "metadata": {
  "kernelspec": {
   "display_name": "Python 3 (ipykernel)",
   "language": "python",
   "name": "python3"
  },
  "language_info": {
   "codemirror_mode": {
    "name": "ipython",
    "version": 3
   },
   "file_extension": ".py",
   "mimetype": "text/x-python",
   "name": "python",
   "nbconvert_exporter": "python",
   "pygments_lexer": "ipython3",
   "version": "3.8.10"
  }
 },
 "nbformat": 4,
 "nbformat_minor": 5
}
